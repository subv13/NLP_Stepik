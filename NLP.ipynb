{
 "cells": [
  {
   "cell_type": "code",
   "execution_count": 71,
   "metadata": {},
   "outputs": [],
   "source": [
    "from dawg import RecordDAWG, DAWG, BytesDAWG"
   ]
  },
  {
   "cell_type": "code",
   "execution_count": 2,
   "metadata": {},
   "outputs": [],
   "source": [
    "%load_ext memory_profiler"
   ]
  },
  {
   "cell_type": "code",
   "execution_count": 77,
   "metadata": {},
   "outputs": [],
   "source": [
    "keys = [u'key{}'.format(x) for x in xrange(10000)]\n",
    "values = [(x,) for x in xrange(10000)]"
   ]
  },
  {
   "cell_type": "code",
   "execution_count": 78,
   "metadata": {},
   "outputs": [],
   "source": [
    "base_dawg = DAWG(keys)"
   ]
  },
  {
   "cell_type": "code",
   "execution_count": 80,
   "metadata": {},
   "outputs": [],
   "source": [
    "record_dawg = RecordDAWG('>H', zip(keys, values))"
   ]
  },
  {
   "cell_type": "code",
   "execution_count": 86,
   "metadata": {},
   "outputs": [
    {
     "data": {
      "text/plain": [
       "[u'key1']"
      ]
     },
     "execution_count": 86,
     "metadata": {},
     "output_type": "execute_result"
    }
   ],
   "source": [
    "record_dawg.similar_keys(u'key1', {1: 3})"
   ]
  },
  {
   "cell_type": "code",
   "execution_count": 97,
   "metadata": {},
   "outputs": [],
   "source": [
    "class POSMapper(object):\n",
    "    POSMAP = {\n",
    "        'NOUN': 'S',\n",
    "        'NPRO': 'S',\n",
    "        'ADVB': 'ADV',\n",
    "        'COMP': 'ADV',\n",
    "        'INTJ': 'ADV',\n",
    "        'PRCL': 'ADV',\n",
    "        'ADJF': 'A',\n",
    "        'ADJS': 'A',\n",
    "        'VERB': 'V',\n",
    "        'INFN': 'V',\n",
    "        'PRTF': 'V',\n",
    "        'PRTS': 'V',\n",
    "        'GRND': 'V',\n",
    "        'CONJ': 'CONJ',\n",
    "        'PREP': 'PR',\n",
    "    }\n",
    "    def __getitem__(self, key):\n",
    "        return self.POSMAP.get(key, 'NI')\n",
    "    "
   ]
  },
  {
   "cell_type": "code",
   "execution_count": 98,
   "metadata": {},
   "outputs": [],
   "source": [
    "posmapper = POSMapper()"
   ]
  },
  {
   "cell_type": "code",
   "execution_count": 99,
   "metadata": {},
   "outputs": [
    {
     "data": {
      "text/plain": [
       "'S'"
      ]
     },
     "execution_count": 99,
     "metadata": {},
     "output_type": "execute_result"
    }
   ],
   "source": [
    "posmapper['NOUN']"
   ]
  },
  {
   "cell_type": "code",
   "execution_count": null,
   "metadata": {},
   "outputs": [],
   "source": []
  }
 ],
 "metadata": {
  "kernelspec": {
   "display_name": "Python 2",
   "language": "python",
   "name": "python2"
  },
  "language_info": {
   "codemirror_mode": {
    "name": "ipython",
    "version": 2
   },
   "file_extension": ".py",
   "mimetype": "text/x-python",
   "name": "python",
   "nbconvert_exporter": "python",
   "pygments_lexer": "ipython2",
   "version": "2.7.13"
  }
 },
 "nbformat": 4,
 "nbformat_minor": 2
}
