{
 "cells": [
  {
   "cell_type": "code",
   "execution_count": 54,
   "metadata": {},
   "outputs": [],
   "source": [
    "from __future__ import unicode_literals\n",
    "from dawg import RecordDAWG, DAWG, BytesDAWG\n",
    "from itertools import imap\n",
    "from collections import namedtuple\n",
    "import re\n",
    "from pprint import pprint"
   ]
  },
  {
   "cell_type": "markdown",
   "metadata": {},
   "source": [
    "### Маппер частей речи из opencorpora на части речи из задания"
   ]
  },
  {
   "cell_type": "code",
   "execution_count": 2,
   "metadata": {},
   "outputs": [],
   "source": [
    "class POSMapper(object):\n",
    "    POSMAP = {\n",
    "        'NOUN': 'S',     #Существительное \n",
    "        'ADVB': 'ADV',   #Наречие\n",
    "        'INTJ': 'ADV',   #Междометие\n",
    "        'PRED': 'ADV',   #Предикатив\n",
    "        'PRCL': 'ADV',   #Частица\n",
    "        'COMP': 'A',     #Компаратив\n",
    "        'ADJF': 'A',     #Прилагательное\n",
    "        'ADJS': 'A',     #Краткое прилагательное\n",
    "        'VERB': 'V',     #Глагол\n",
    "        'INFN': 'V',     #Инфинитив\n",
    "        'PRTF': 'V',     #Причастие\n",
    "        'PRTS': 'V',     #Краткое причастие\n",
    "        'GRND': 'V',     #Деепричастие\n",
    "        'CONJ': 'CONJ',  #Союз\n",
    "        'PREP': 'PR',    #Предлог\n",
    "        'NUMR': 'NI',    #Числительное\n",
    "        'NPRO': 'NI',    #Местоимение\n",
    "    }\n",
    "    \n",
    "    def __getitem__(self, key):\n",
    "        return self.POSMAP.get(key, 'NI')\n",
    "    "
   ]
  },
  {
   "cell_type": "code",
   "execution_count": 56,
   "metadata": {},
   "outputs": [],
   "source": [
    "def get_regex_for_lemma(lemma):\n",
    "    return '(?P<pref>[\\А-Я]*)({lemma})(?P<tail>[\\А-Я]*)'.format(lemma=lemma.replace('Ё', '[Ё|Е]'))"
   ]
  },
  {
   "cell_type": "code",
   "execution_count": 61,
   "metadata": {},
   "outputs": [
    {
     "name": "stdout",
     "output_type": "stream",
     "text": [
      "{u'tail': u'\\u0415\\u0419', u'pref': u''}\n"
     ]
    }
   ],
   "source": [
    "r = get_regex_for_lemma('ЁЖ')\n",
    "\n",
    "m = re.match(r, 'ЕЖЕЙ')\n",
    "\n",
    "print m.groupdict()"
   ]
  },
  {
   "cell_type": "code",
   "execution_count": 19,
   "metadata": {},
   "outputs": [],
   "source": [
    "Word = namedtuple('Word', 'pref tail pos')"
   ]
  },
  {
   "cell_type": "code",
   "execution_count": 80,
   "metadata": {},
   "outputs": [],
   "source": [
    "words = {}\n",
    "\n",
    "with open('hedgehog_dict.txt') as f:\n",
    "    while True:\n",
    "        line = f.readline()\n",
    "        \n",
    "        if not line:\n",
    "            break\n",
    "            \n",
    "        if re.match('\\s', line):\n",
    "            continue\n",
    "            \n",
    "        if re.match('\\d+', line):\n",
    "            new_line = f.readline()\n",
    "            \n",
    "            lemma, pos = new_line.split(b'\\t')\n",
    "            lemma = lemma.decode('UTF-8')\n",
    "            pos = pos.split(',')[0]\n",
    "            \n",
    "            if words.get('lemma'):\n",
    "                words[lemma].append(Word('', '', pos))\n",
    "            else:\n",
    "                words[lemma] = [Word('', '', pos)]\n",
    "            continue\n",
    "            \n",
    "        word_form, pos = line.split(b'\\t')\n",
    "        pos = pos.split(',')[0]\n",
    "        \n",
    "        "
   ]
  },
  {
   "cell_type": "code",
   "execution_count": 79,
   "metadata": {},
   "outputs": [
    {
     "name": "stdout",
     "output_type": "stream",
     "text": [
      "{u'\\u0401\\u0416': [Word(pref=u'', tail=u'', pos=u'NOUN')],\n",
      " u'\\u0401\\u0416\\u0410': [Word(pref=u'', tail=u'', pos=u'GRND')],\n",
      " u'\\u0401\\u0416\\u0410\\u0421\\u042c': [Word(pref=u'', tail=u'', pos=u'GRND')],\n",
      " u'\\u0401\\u0416\\u0410\\u0429\\u0418\\u0419\\u0421\\u042f': [Word(pref=u'', tail=u'', pos=u'PRTF')],\n",
      " u'\\u0401\\u0416\\u0418\\u0412\\u0428\\u0418\\u0419\\u0421\\u042f': [Word(pref=u'', tail=u'', pos=u'PRTF')],\n",
      " u'\\u0401\\u0416\\u0418\\u041a': [Word(pref=u'', tail=u'', pos=u'NOUN')],\n",
      " u'\\u0401\\u0416\\u0418\\u041a\\u041e\\u041c': [Word(pref=u'', tail=u'', pos=u'ADVB \\n')],\n",
      " u'\\u0401\\u0416\\u0418\\u041c': [Word(pref=u'', tail=u'', pos=u'PRTS')],\n",
      " u'\\u0401\\u0416\\u0418\\u041c\\u042b\\u0419': [Word(pref=u'', tail=u'', pos=u'PRTF')],\n",
      " u'\\u0401\\u0416\\u0418\\u0421\\u0422': [Word(pref=u'', tail=u'', pos=u'ADJS')],\n",
      " u'\\u0401\\u0416\\u0418\\u0421\\u0422\\u0415\\u0415': [Word(pref=u'', tail=u'', pos=u'COMP')],\n",
      " u'\\u0401\\u0416\\u0418\\u0421\\u0422\\u042b\\u0419': [Word(pref=u'', tail=u'', pos=u'ADJF')],\n",
      " u'\\u0401\\u0416\\u0418\\u0422\\u042c': [Word(pref=u'', tail=u'', pos=u'INFN')],\n",
      " u'\\u0401\\u0416\\u0418\\u0422\\u042c\\u0421\\u042f': [Word(pref=u'', tail=u'', pos=u'INFN')],\n",
      " u'\\u0401\\u0416\\u0423': [Word(pref=u'', tail=u'', pos=u'VERB')],\n",
      " u'\\u0401\\u0416\\u0423\\u0421\\u042c': [Word(pref=u'', tail=u'', pos=u'VERB')]}\n"
     ]
    }
   ],
   "source": [
    "pprint(words)"
   ]
  },
  {
   "cell_type": "code",
   "execution_count": 26,
   "metadata": {},
   "outputs": [
    {
     "data": {
      "text/plain": [
       "'([\\\\\\xd0\\x90-\\xd0\\xaf]*)(kek)([\\\\\\xd0\\x90-\\xd0\\xaf]*)'"
      ]
     },
     "execution_count": 26,
     "metadata": {},
     "output_type": "execute_result"
    }
   ],
   "source": [
    "'([\\А-Я]*)({lemma})([\\А-Я]*)'.format(lemma=)"
   ]
  },
  {
   "cell_type": "code",
   "execution_count": 27,
   "metadata": {},
   "outputs": [],
   "source": []
  },
  {
   "cell_type": "code",
   "execution_count": null,
   "metadata": {},
   "outputs": [],
   "source": []
  }
 ],
 "metadata": {
  "kernelspec": {
   "display_name": "Python 2",
   "language": "python",
   "name": "python2"
  },
  "language_info": {
   "codemirror_mode": {
    "name": "ipython",
    "version": 2
   },
   "file_extension": ".py",
   "mimetype": "text/x-python",
   "name": "python",
   "nbconvert_exporter": "python",
   "pygments_lexer": "ipython2",
   "version": "2.7.13"
  }
 },
 "nbformat": 4,
 "nbformat_minor": 2
}
